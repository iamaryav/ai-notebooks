{
 "cells": [
  {
   "cell_type": "markdown",
   "metadata": {},
   "source": [
    "#### Unsupervised Learning\n",
    "- Clustering\n",
    "- Anomaly detection\n",
    "- Recommender systems\n",
    "- Reinforcement Learning"
   ]
  },
  {
   "cell_type": "markdown",
   "metadata": {},
   "source": [
    "#### Clustering\n",
    "- No target label present"
   ]
  },
  {
   "cell_type": "markdown",
   "metadata": {},
   "source": [
    "#### K-means clustering algorithm\n",
    "- cluster centroids for calculating the neares point\n",
    "- Assign each point to its closest centroid\n",
    "- Relocate you centroids\n",
    "\n",
    "```\n",
    "Randomly initialize K cluster centroids u1, u2, ... uk\n",
    "\n",
    "Repeat {\n",
    "    for i = 1 to m:\n",
    "    c(i) = index (from 1 to k) of cluster centroid closest to x(i)\n",
    "\n",
    "    mink || x(i) - UK || ^ 2\n",
    "}\n",
    "\n",
    "```\n",
    "- K-means optimization objective\n",
    "- Random initialization of cluster centroids\n",
    "- Disttoration \n",
    "- Chossing the number of cluster"
   ]
  },
  {
   "cell_type": "markdown",
   "metadata": {},
   "source": [
    "#### Anamoly detection\n",
    "- Density estimation\n",
    "- Gaussian Distribution, Normal distribution, Bell shape curve\n",
    "- Anamoly detection algo\n",
    "- Choose n features x_i that you think might be indicative of anomalous examples\n",
    "- Fit parameters \n",
    "- Given a new example x, compute p(x):w\n",
    "- Developing and evaluating a anamoly detection system \n",
    "- Algorithm evaluation\n",
    "- True positive, false positive, false negative, true negative\n",
    "- Precision/Recall\n",
    "- F1-score\n",
    "- For brand new anomaly detection for other type supervised learning\n",
    "- choosing what feature to use\n",
    "- Non gaussian features\n",
    "- \n"
   ]
  },
  {
   "cell_type": "markdown",
   "metadata": {},
   "source": [
    "#### Recommender System\n",
    "- Using per item feature\n",
    "- Using Per-item features\n",
    "\n",
    "collaborating filtering algorithm\n",
    "- Gradient Descent for cost reduction\n",
    "\n",
    "Binary levels: favs, likes and clicks\n",
    "Mean normalization\n",
    "- Auto diff / Auto Grad - Means automatic differentiation\n",
    "- Finding related items\n",
    "\n",
    "Limitations of collaborative filtering\n",
    "- Cold start problem\n",
    "- Use side information about items or users\n",
    "\n",
    "\n",
    "Content based Filtering\n",
    "- Features of user and features of item and find the good match\n",
    "\n",
    "- Deep learning for content based filtering\n",
    "- Recommending from a large catalogue\n",
    "- Retreval & Ranking\n",
    "- Ethical issue of recommender system"
   ]
  },
  {
   "cell_type": "markdown",
   "metadata": {},
   "source": [
    "Principal Components Analysis:\n",
    "- Reducing the number of features\n",
    "- Plot the graph and decide which feature to remove\n",
    "- Used in visualization\n",
    "- Used in data compression\n",
    "- "
   ]
  },
  {
   "cell_type": "markdown",
   "metadata": {},
   "source": [
    "#### Reinforcement Learning\n",
    "- The return in reinforcement learning\n",
    "- Making decisions: Policies in reinforcement learning\n",
    "- Markov Decision process(MDP)\n",
    "- State-action value function\n",
    "- Bellman Equation\n",
    "- Stochastic environment\n",
    "- State space applications\n",
    "- Deep Reinforcement Learning\n",
    "- epsilon greedy policy\n",
    "- Mini batch and soft updates\n",
    "- "
   ]
  }
 ],
 "metadata": {
  "language_info": {
   "name": "python"
  }
 },
 "nbformat": 4,
 "nbformat_minor": 2
}
