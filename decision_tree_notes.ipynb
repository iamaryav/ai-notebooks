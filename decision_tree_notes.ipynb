{
 "cells": [
  {
   "cell_type": "markdown",
   "metadata": {},
   "source": [
    "#### Decision Tree\n",
    "- Tree, Make decision based on nodes and leaf node makes prediction\n",
    "\n",
    "Learning Process\n",
    "- How to choose features on node level - Maximize purity\n",
    "- when to stop spillting\n",
    "- Define maximum depth, Limit the size of tree\n",
    "- Use threshold to stop branching \n",
    "\n",
    "\n",
    "Entropy as a measure of impurity\n"
   ]
  }
 ],
 "metadata": {
  "language_info": {
   "name": "python"
  }
 },
 "nbformat": 4,
 "nbformat_minor": 2
}
