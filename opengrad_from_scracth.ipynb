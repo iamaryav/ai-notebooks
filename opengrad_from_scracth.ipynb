{
 "cells": [
  {
   "cell_type": "code",
   "execution_count": null,
   "metadata": {},
   "outputs": [],
   "source": [
    "# open grad Theory\n",
    "# Automatic Gradient df/dx\n",
    "# Auto grad is what you need to train neural networks and everything else is efficiency\n",
    "# Bacpropagation auto grad engine - Gives power to neural networks\n",
    "# nn library\n",
    "# Neuron, Layer, perceptron"
   ]
  },
  {
   "cell_type": "code",
   "execution_count": 1,
   "metadata": {},
   "outputs": [],
   "source": [
    "import math\n",
    "import numpy as np\n",
    "import matplotlib.pyplot as plt\n",
    "%matplotlib inline"
   ]
  },
  {
   "cell_type": "code",
   "execution_count": null,
   "metadata": {},
   "outputs": [],
   "source": [
    "# Python class manipulation\n",
    "# Drawing visualization\n",
    "# wrap in the object\n",
    "# have your own operation\n",
    "# Calculating Differntiation for + and * U\n",
    "# Undertand the differentiation and the chain rule\n",
    "# How to calculate the grad for a single neuron\n",
    "# and do everything in automatic\n",
    "# Topological sort to build expression graph\n",
    "# Calulate the backward pass in single by combining everything in a single class\n",
    "# You just need to have mind map of what you want to build then you can build anything\n",
    "# Given the time\n",
    "# "
   ]
  }
 ],
 "metadata": {
  "kernelspec": {
   "display_name": "Python 3",
   "language": "python",
   "name": "python3"
  },
  "language_info": {
   "codemirror_mode": {
    "name": "ipython",
    "version": 3
   },
   "file_extension": ".py",
   "mimetype": "text/x-python",
   "name": "python",
   "nbconvert_exporter": "python",
   "pygments_lexer": "ipython3",
   "version": "3.10.12"
  }
 },
 "nbformat": 4,
 "nbformat_minor": 2
}
