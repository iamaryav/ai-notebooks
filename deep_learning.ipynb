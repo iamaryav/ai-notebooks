{
 "cells": [
  {
   "cell_type": "markdown",
   "metadata": {},
   "source": [
    "#### Deep Learning / Neural Network - Intuition\n",
    "Neuron - Mathematical equation based on some input\n",
    "Layer - collection of Neuron\n",
    "Activations - Output of the Neuron\n",
    "input layer\n",
    "- Neuron takes all the input and tries to ignore which is not relevant talking about single neuron\n",
    "- It should be based on the equation and the parameter tied to it\n",
    "\n",
    "Input layer vector goes to neuron layer then it produces the another vector then it is input for\n",
    "next layer and the last layer produces the output\n",
    "\n",
    "\n",
    "Input Layer -> Hidden Layer -> Output layer\n",
    "Just logistics regression but it learns from it features and create an another set of features\n",
    "and derives output from that\n",
    "- It creates it own set of new features that is the good thing about it or bad thing about it\n",
    "\n",
    "We need to decide:\n",
    "How many hidden layers we want\n",
    "How many neurons in each layer we want\n",
    "Called Neural network architecture\n",
    "\n",
    "Multiple layer of neural networks called - Multilayer Perceptron\n",
    "\n",
    "Face Recognition Example:\n",
    "Neurons layer distribute their work to do some useful prediction\n",
    "Fascinating thing is that it does by itself No one told to do so\n"
   ]
  },
  {
   "cell_type": "markdown",
   "metadata": {},
   "source": [
    "#### Layers\n",
    "every neurons is logistics regression takes some input and and produces some probablity\n",
    "every layers take input from previous layer output and produces the output that becomes input\n",
    "of the next layer\n",
    "Hidden Layer - collection of neurons\n",
    "Hidden Units - Neurons\n",
    "Layer type - Dense\n",
    "Dense layer is called dense because of its connection with all the previous and next node\n",
    "\n",
    "#### Complex Neural networks\n",
    "\n",
    "#### Inference Forward propagation (making prediction)\n",
    "computation goes to left to right \n",
    "propagating the activation from left to right\n",
    "\n",
    "- Try the Inference of the multiple models by downloading and running them on your machine\n",
    "- Will use pytorch for doing the above and for learning purpose\n",
    "- Tensor, Matmul\n",
    "- Matrix multiplication, dot product\n",
    "- a dot b or a ^ T dot b\n",
    "- vectorize Implementation\n"
   ]
  },
  {
   "cell_type": "code",
   "execution_count": null,
   "metadata": {},
   "outputs": [],
   "source": [
    "#import pytorch as torch\n",
    "\n",
    "# Training a neural network\n",
    "# Input data\n",
    "# Define the model architecture\n",
    "# Fit / train the model\n",
    "# Test the output\n",
    "\n",
    "# Training basically means how to minimize the cost functions by adjusting the parameters\n",
    "# Specify how to compute the output, Specify the loss and cost, Train to minimize the cost\n",
    "# Back propagation top compute partial derivative terms\n",
    "\n",
    "# Activation functions\n",
    "# Linear activation function\n",
    "# Sigmoind functions\n",
    "# ReLU - Rectified Linear unit\n",
    "\n",
    "# How to choose activation function\n",
    "# Binary classification problem - sigmoid as output layer\n",
    "# Regression problem - Linear activation function y = +/-\n",
    "# y >= 0 then use ReLU\n",
    "\n",
    "# Learning is faster in ReLU compare to sigmoid function due to flat edges\n",
    "# For hidder layer use ReLU activation method\n",
    "# There are more activation function\n",
    "# why ? \n",
    "# Using Linear regression as hidden and output layer makes model linear\n",
    "\n",
    "# Multiclass classification function\n",
    "# Generalization of logistics function\n",
    "# Softmax regression algorithm\n",
    "\n",
    "\n"
   ]
  },
  {
   "cell_type": "code",
   "execution_count": null,
   "metadata": {},
   "outputs": [],
   "source": []
  }
 ],
 "metadata": {
  "kernelspec": {
   "display_name": "Python 3",
   "language": "python",
   "name": "python3"
  },
  "language_info": {
   "codemirror_mode": {
    "name": "ipython",
    "version": 3
   },
   "file_extension": ".py",
   "mimetype": "text/x-python",
   "name": "python",
   "nbconvert_exporter": "python",
   "pygments_lexer": "ipython3",
   "version": "3.10.12"
  }
 },
 "nbformat": 4,
 "nbformat_minor": 2
}
