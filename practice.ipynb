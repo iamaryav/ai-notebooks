{
 "cells": [
  {
   "cell_type": "code",
   "execution_count": 1,
   "metadata": {},
   "outputs": [
    {
     "name": "stdout",
     "output_type": "stream",
     "text": [
      "Hello, World!\n"
     ]
    }
   ],
   "source": [
    "# Practice notes\n",
    "\n",
    "\n",
    "# Practice the ML Algorithms\n",
    "\n",
    "# Predict house prices\n",
    "# \n",
    "\n",
    "# Linear Regression\n",
    "# Multiple variable Linear Regression\n",
    "# Polynomial regression\n",
    "# Classification\n",
    "# Logistic Regression  \n",
    "\n",
    "\n",
    "# Topics to explore\n",
    "# Feature scaling, learning rate\n",
    "# Feature Eng, PolyReg\n",
    "# Gradient descent\n",
    "# Classification solution\n",
    "# Sigmoid, Decision boundary, Logistic Loss, Cost Function\n",
    "# Overfitting Regularization"
   ]
  }
 ],
 "metadata": {
  "kernelspec": {
   "display_name": "Python 3",
   "language": "python",
   "name": "python3"
  },
  "language_info": {
   "name": "python",
   "version": "3.10.12"
  }
 },
 "nbformat": 4,
 "nbformat_minor": 2
}
