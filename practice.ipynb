{
 "cells": [
  {
   "cell_type": "code",
   "execution_count": 1,
   "metadata": {},
   "outputs": [],
   "source": [
    "# Practice the ML Algorithms\n",
    "\n",
    "# predict co2 emission and fuel consumption for vehichle\n",
    "# Predict house prices\n",
    "\n",
    "# Algos\n",
    "# Linear Regression - done\n",
    "# Multiple variable Linear Regression - done\n",
    "# Polynomial regression\n",
    "# Classification\n",
    "# Logistic Regression  \n",
    "\n",
    "# Topics to explore\n",
    "# Feature scaling, learning rate\n",
    "# Feature Eng, PolyReg\n",
    "# Gradient descent\n",
    "# Classification solution\n",
    "# Sigmoid, Decision boundary, Logistic Loss, Cost Function\n",
    "# Overfitting Regularization\n",
    "\n",
    "# To Improve the model prediction\n",
    "# There are few way we can do it\n",
    "# Minimize the cost - Gradient descent\n",
    "# Adjust learning rate  - alpha\n",
    "# Do feature scaling - Through normalization"
   ]
  },
  {
   "cell_type": "code",
   "execution_count": null,
   "metadata": {},
   "outputs": [],
   "source": []
  },
  {
   "cell_type": "code",
   "execution_count": 2,
   "metadata": {},
   "outputs": [],
   "source": [
    "\n",
    "# Implementation Steps\n",
    "# import the data\n",
    "# clean up and find insights in the data\n",
    "# decide which algorithm to use\n",
    "# decide which field you to choose\n",
    "# split the data between training and testing set\n",
    "# Train the model\n",
    "# Test the model\n",
    "# check the efficiency of the model or error rate\n",
    "# Try to improve the model\n",
    "# Then try to implement library method by yourself to understand the basics"
   ]
  },
  {
   "cell_type": "code",
   "execution_count": null,
   "metadata": {},
   "outputs": [],
   "source": [
    "# Math\n",
    "# mean - Average, median - middle element, mode - most frequent"
   ]
  }
 ],
 "metadata": {
  "kernelspec": {
   "display_name": "Python 3",
   "language": "python",
   "name": "python3"
  },
  "language_info": {
   "codemirror_mode": {
    "name": "ipython",
    "version": 3
   },
   "file_extension": ".py",
   "mimetype": "text/x-python",
   "name": "python",
   "nbconvert_exporter": "python",
   "pygments_lexer": "ipython3",
   "version": "3.10.12"
  }
 },
 "nbformat": 4,
 "nbformat_minor": 2
}
