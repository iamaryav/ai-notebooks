{
 "cells": [
  {
   "cell_type": "code",
   "execution_count": 2,
   "metadata": {},
   "outputs": [],
   "source": [
    "import torch\n",
    "import torch.nn.functional as F \n",
    "import matplotlib.pyplot as plt \n",
    "%matplotlib inline"
   ]
  },
  {
   "cell_type": "code",
   "execution_count": 3,
   "metadata": {},
   "outputs": [
    {
     "data": {
      "text/plain": [
       "['emma', 'olivia', 'ava', 'isabella', 'sophia', 'charlotte', 'mia', 'amelia']"
      ]
     },
     "execution_count": 3,
     "metadata": {},
     "output_type": "execute_result"
    }
   ],
   "source": [
    "# read in all the words\n",
    "words = open('./datasets/names.txt', 'r').read().splitlines()\n",
    "words[:8]"
   ]
  },
  {
   "cell_type": "code",
   "execution_count": 4,
   "metadata": {},
   "outputs": [
    {
     "data": {
      "text/plain": [
       "32033"
      ]
     },
     "execution_count": 4,
     "metadata": {},
     "output_type": "execute_result"
    }
   ],
   "source": [
    "len(words)"
   ]
  },
  {
   "cell_type": "code",
   "execution_count": 5,
   "metadata": {},
   "outputs": [
    {
     "name": "stdout",
     "output_type": "stream",
     "text": [
      "{1: 'a', 2: 'b', 3: 'c', 4: 'd', 5: 'e', 6: 'f', 7: 'g', 8: 'h', 9: 'i', 10: 'j', 11: 'k', 12: 'l', 13: 'm', 14: 'n', 15: 'o', 16: 'p', 17: 'q', 18: 'r', 19: 's', 20: 't', 21: 'u', 22: 'v', 23: 'w', 24: 'x', 25: 'y', 26: 'z', 0: '.'}\n",
      "27\n"
     ]
    }
   ],
   "source": [
    "# build the vocabulary of characters and mappings to/from integers\n",
    "chars = sorted(list(set(''.join(words))))\n",
    "stoi = {s:i+1 for i,s in enumerate(chars)}\n",
    "stoi['.'] = 0\n",
    "itos = {i:s for s,i in stoi.items()}\n",
    "vocab_size = len(itos)\n",
    "print(itos)\n",
    "print(vocab_size)"
   ]
  },
  {
   "cell_type": "code",
   "execution_count": 6,
   "metadata": {},
   "outputs": [
    {
     "name": "stdout",
     "output_type": "stream",
     "text": [
      "torch.Size([182625, 3]) torch.Size([182625])\n",
      "torch.Size([22655, 3]) torch.Size([22655])\n",
      "torch.Size([22866, 3]) torch.Size([22866])\n"
     ]
    }
   ],
   "source": [
    "# build the dataset\n",
    "block_size = 3 # context length: how many characters do we take to predict the next one?\n",
    "\n",
    "def build_dataset(words):  \n",
    "  X, Y = [], []\n",
    "  \n",
    "  for w in words:\n",
    "    context = [0] * block_size\n",
    "    for ch in w + '.':\n",
    "      ix = stoi[ch]\n",
    "      X.append(context)\n",
    "      Y.append(ix)\n",
    "      context = context[1:] + [ix] # crop and append\n",
    "\n",
    "  X = torch.tensor(X)\n",
    "  Y = torch.tensor(Y)\n",
    "  print(X.shape, Y.shape)\n",
    "  return X, Y\n",
    "\n",
    "import random\n",
    "random.seed(42)\n",
    "random.shuffle(words)\n",
    "n1 = int(0.8*len(words))\n",
    "n2 = int(0.9*len(words))\n",
    "\n",
    "Xtr,  Ytr  = build_dataset(words[:n1])     # 80%\n",
    "Xdev, Ydev = build_dataset(words[n1:n2])   # 10%\n",
    "Xte,  Yte  = build_dataset(words[n2:])     # 10%"
   ]
  },
  {
   "cell_type": "code",
   "execution_count": 7,
   "metadata": {},
   "outputs": [
    {
     "name": "stdout",
     "output_type": "stream",
     "text": [
      "12097\n"
     ]
    }
   ],
   "source": [
    "# MLP revisited\n",
    "n_embd = 10 # the dimensionality of the character embedding vectors\n",
    "n_hidden = 200 # the number of neurons in the hidden layer of the MLP\n",
    "\n",
    "g = torch.Generator().manual_seed(2147483647) # for reproducibility\n",
    "C  = torch.randn((vocab_size, n_embd),            generator=g)\n",
    "W1 = torch.randn((n_embd * block_size, n_hidden), generator=g) * (5/3)/((n_embd * block_size)**0.5) #* 0.2\n",
    "#b1 = torch.randn(n_hidden,                        generator=g) * 0.01\n",
    "W2 = torch.randn((n_hidden, vocab_size),          generator=g) * 0.01\n",
    "b2 = torch.randn(vocab_size,                      generator=g) * 0\n",
    "\n",
    "# BatchNorm parameters\n",
    "bngain = torch.ones((1, n_hidden))\n",
    "bnbias = torch.zeros((1, n_hidden))\n",
    "bnmean_running = torch.zeros((1, n_hidden))\n",
    "bnstd_running = torch.ones((1, n_hidden))\n",
    "\n",
    "parameters = [C, W1, W2, b2, bngain, bnbias]\n",
    "print(sum(p.nelement() for p in parameters)) # number of parameters in total\n",
    "for p in parameters:\n",
    "  p.requires_grad = True"
   ]
  },
  {
   "cell_type": "code",
   "execution_count": 8,
   "metadata": {},
   "outputs": [
    {
     "name": "stdout",
     "output_type": "stream",
     "text": [
      "      0/ 200000: 3.3239\n",
      "  10000/ 200000: 2.0322\n",
      "  20000/ 200000: 2.5675\n",
      "  30000/ 200000: 2.0125\n",
      "  40000/ 200000: 2.2446\n",
      "  50000/ 200000: 1.8897\n",
      "  60000/ 200000: 2.0785\n",
      "  70000/ 200000: 2.3681\n",
      "  80000/ 200000: 2.2918\n",
      "  90000/ 200000: 2.0238\n",
      " 100000/ 200000: 2.3673\n",
      " 110000/ 200000: 2.3132\n",
      " 120000/ 200000: 1.6414\n",
      " 130000/ 200000: 1.9311\n",
      " 140000/ 200000: 2.2231\n",
      " 150000/ 200000: 2.0027\n",
      " 160000/ 200000: 2.0997\n",
      " 170000/ 200000: 2.4949\n",
      " 180000/ 200000: 2.0199\n",
      " 190000/ 200000: 2.1707\n"
     ]
    }
   ],
   "source": [
    "# same optimization as last time\n",
    "max_steps = 200000\n",
    "batch_size = 32\n",
    "lossi = []\n",
    "\n",
    "for i in range(max_steps):\n",
    "  \n",
    "  # minibatch construct\n",
    "  ix = torch.randint(0, Xtr.shape[0], (batch_size,), generator=g)\n",
    "  Xb, Yb = Xtr[ix], Ytr[ix] # batch X,Y\n",
    "  \n",
    "  # forward pass\n",
    "  emb = C[Xb] # embed the characters into vectors\n",
    "  embcat = emb.view(emb.shape[0], -1) # concatenate the vectors\n",
    "  # Linear layer\n",
    "  hpreact = embcat @ W1 #+ b1 # hidden layer pre-activation\n",
    "  # BatchNorm layer\n",
    "  # -------------------------------------------------------------\n",
    "  bnmeani = hpreact.mean(0, keepdim=True)\n",
    "  bnstdi = hpreact.std(0, keepdim=True)\n",
    "  hpreact = bngain * (hpreact - bnmeani) / bnstdi + bnbias\n",
    "  with torch.no_grad():\n",
    "    bnmean_running = 0.999 * bnmean_running + 0.001 * bnmeani\n",
    "    bnstd_running = 0.999 * bnstd_running + 0.001 * bnstdi\n",
    "  # -------------------------------------------------------------\n",
    "  # Non-linearity\n",
    "  h = torch.tanh(hpreact) # hidden layer\n",
    "  logits = h @ W2 + b2 # output layer\n",
    "  loss = F.cross_entropy(logits, Yb) # loss function\n",
    "  \n",
    "  # backward pass\n",
    "  for p in parameters:\n",
    "    p.grad = None\n",
    "  loss.backward()\n",
    "  \n",
    "  # update\n",
    "  lr = 0.1 if i < 100000 else 0.01 # step learning rate decay\n",
    "  for p in parameters:\n",
    "    p.data += -lr * p.grad\n",
    "\n",
    "  # track stats\n",
    "  if i % 10000 == 0: # print every once in a while\n",
    "    print(f'{i:7d}/{max_steps:7d}: {loss.item():.4f}')\n",
    "  lossi.append(loss.log10().item())"
   ]
  },
  {
   "cell_type": "code",
   "execution_count": 14,
   "metadata": {},
   "outputs": [
    {
     "data": {
      "text/plain": [
       "(tensor([1., 1., 1., 1.]),\n",
       " tensor([0.2500, 0.2500, 0.2500, 0.2500]),\n",
       " tensor(1.3863))"
      ]
     },
     "execution_count": 14,
     "metadata": {},
     "output_type": "execute_result"
    }
   ],
   "source": [
    "# Intial loss should be what we expect\n",
    "# Loss curve should not look like hockey stick\n",
    "# Start with Normally distributed logits near to zero \n",
    "# This will have less loss\n",
    "# This means actually spending the time on optimizing the neural network\n",
    "# Not on squashing down the weight\n",
    "logits = torch.tensor([1.0, 1.0, 1.0, 1.0])\n",
    "probs = torch.softmax(logits, dim=0)\n",
    "loss = -probs[2].log()\n",
    "logits, probs, loss"
   ]
  },
  {
   "cell_type": "code",
   "execution_count": null,
   "metadata": {},
   "outputs": [
    {
     "data": {
      "text/plain": [
       "(array([473., 236., 208., 155., 141., 128., 108., 102.,  99., 108.,  78.,\n",
       "         93., 106.,  85.,  86., 112., 119., 120., 109., 103., 112., 103.,\n",
       "        112.,  86., 100., 125.,  97.,  78., 118.,  91.,  84., 109., 107.,\n",
       "         88., 105.,  86.,  81.,  78., 107.,  88., 103., 106.,  80., 128.,\n",
       "        141., 114., 137., 184., 232., 451.]),\n",
       " array([-9.99970257e-01, -9.59970877e-01, -9.19971497e-01, -8.79972117e-01,\n",
       "        -8.39972737e-01, -7.99973357e-01, -7.59973977e-01, -7.19974597e-01,\n",
       "        -6.79975216e-01, -6.39975836e-01, -5.99976456e-01, -5.59977076e-01,\n",
       "        -5.19977696e-01, -4.79978316e-01, -4.39978936e-01, -3.99979556e-01,\n",
       "        -3.59980175e-01, -3.19980795e-01, -2.79981415e-01, -2.39982035e-01,\n",
       "        -1.99982655e-01, -1.59983275e-01, -1.19983895e-01, -7.99845147e-02,\n",
       "        -3.99851346e-02,  1.42455101e-05,  4.00136256e-02,  8.00130057e-02,\n",
       "         1.20012386e-01,  1.60011766e-01,  2.00011146e-01,  2.40010526e-01,\n",
       "         2.80009906e-01,  3.20009286e-01,  3.60008667e-01,  4.00008047e-01,\n",
       "         4.40007427e-01,  4.80006807e-01,  5.20006187e-01,  5.60005567e-01,\n",
       "         6.00004947e-01,  6.40004327e-01,  6.80003707e-01,  7.20003088e-01,\n",
       "         7.60002468e-01,  8.00001848e-01,  8.40001228e-01,  8.80000608e-01,\n",
       "         9.19999988e-01,  9.59999368e-01,  9.99998748e-01]),\n",
       " <BarContainer object of 50 artists>)"
      ]
     },
     "execution_count": 17,
     "metadata": {},
     "output_type": "execute_result"
    },
    {
     "data": {
      "image/png": "[encoded data removed]",
      "text/plain": [
       "<Figure size 640x480 with 1 Axes>"
      ]
     },
     "metadata": {},
     "output_type": "display_data"
    }
   ],
   "source": [
    "# since I copied the code it is well distributed :(\n",
    "plt.hist(h.view(-1).tolist(), 50)"
   ]
  },
  {
   "cell_type": "code",
   "execution_count": 18,
   "metadata": {},
   "outputs": [
    {
     "data": {
      "text/plain": [
       "(array([  1.,   1.,   2.,   2.,   1.,   7.,  13.,  17.,  27.,  32.,  56.,\n",
       "         72.,  98., 115., 150., 209., 244., 301., 350., 407., 613., 660.,\n",
       "        603., 499., 396., 340., 253., 217., 176., 140., 126.,  86.,  67.,\n",
       "         39.,  24.,  21.,   9.,   6.,   6.,   2.,   5.,   1.,   1.,   1.,\n",
       "          0.,   2.,   0.,   1.,   0.,   1.]),\n",
       " array([-5.55808973, -5.30401786, -5.04994598, -4.79587411, -4.54180223,\n",
       "        -4.28773036, -4.03365849, -3.77958661, -3.52551474, -3.27144286,\n",
       "        -3.01737099, -2.76329911, -2.50922724, -2.25515536, -2.00108349,\n",
       "        -1.74701161, -1.49293974, -1.23886786, -0.98479599, -0.73072412,\n",
       "        -0.47665224, -0.22258037,  0.03149151,  0.28556338,  0.53963526,\n",
       "         0.79370713,  1.04777901,  1.30185088,  1.55592276,  1.80999463,\n",
       "         2.06406651,  2.31813838,  2.57221025,  2.82628213,  3.080354  ,\n",
       "         3.33442588,  3.58849775,  3.84256963,  4.0966415 ,  4.35071338,\n",
       "         4.60478525,  4.85885713,  5.112929  ,  5.36700088,  5.62107275,\n",
       "         5.87514462,  6.1292165 ,  6.38328837,  6.63736025,  6.89143212,\n",
       "         7.145504  ]),\n",
       " <BarContainer object of 50 artists>)"
      ]
     },
     "execution_count": 18,
     "metadata": {},
     "output_type": "execute_result"
    },
    {
     "data": {
      "image/png": "[encoded data removed]",
      "text/plain": [
       "<Figure size 640x480 with 1 Axes>"
      ]
     },
     "metadata": {},
     "output_type": "display_data"
    }
   ],
   "source": [
    "plt.hist(hpreact.view(-1).tolist(), 50)"
   ]
  },
  {
   "cell_type": "code",
   "execution_count": null,
   "metadata": {},
   "outputs": [
    {
     "data": {
      "text/plain": [
       "[<matplotlib.lines.Line2D at 0x7f12293195a0>]"
      ]
     },
     "execution_count": 15,
     "metadata": {},
     "output_type": "execute_result"
    },
    {
     "data": {
      "image/png": "[encoded data removed]",
      "text/plain": [
       "<Figure size 640x480 with 1 Axes>"
      ]
     },
     "metadata": {},
     "output_type": "display_data"
    }
   ],
   "source": [
    "plt.plot(lossi)"
   ]
  },
  {
   "cell_type": "code",
   "execution_count": 20,
   "metadata": {},
   "outputs": [
    {
     "data": {
      "text/plain": [
       "<matplotlib.image.AxesImage at 0x7f9c3c352410>"
      ]
     },
     "execution_count": 20,
     "metadata": {},
     "output_type": "execute_result"
    },
    {
     "data": {
      "image/png": "[encoded data removed]",
      "text/plain": [
       "<Figure size 2000x1000 with 1 Axes>"
      ]
     },
     "metadata": {},
     "output_type": "display_data"
    }
   ],
   "source": [
    "plt.figure(figsize=(20, 10))\n",
    "plt.imshow(h.abs() > 0.99, cmap=\"gray\", interpolation=\"nearest\")"
   ]
  },
  {
   "cell_type": "code",
   "execution_count": 26,
   "metadata": {},
   "outputs": [
    {
     "data": {
      "text/plain": [
       "(array([2.00828876e-05, 2.00828876e-05, 0.00000000e+00, 2.00828876e-05,\n",
       "        4.01657751e-05, 6.02486627e-05, 6.02486627e-05, 1.80745988e-04,\n",
       "        5.82403740e-04, 6.82818177e-04, 8.03315503e-04, 1.96812298e-03,\n",
       "        3.17309624e-03, 4.55881548e-03, 8.07332080e-03, 1.34555347e-02,\n",
       "        2.21313421e-02, 3.52655506e-02, 5.49467804e-02, 8.21390102e-02,\n",
       "        1.22023625e-01, 1.73094408e-01, 2.38464207e-01, 3.10180199e-01,\n",
       "        3.73742538e-01, 4.13687401e-01, 4.28669235e-01, 4.03384880e-01,\n",
       "        3.52796086e-01, 2.87787779e-01, 2.17096015e-01, 1.56244865e-01,\n",
       "        1.09190660e-01, 7.48489220e-02, 4.71747029e-02, 3.05661549e-02,\n",
       "        1.96209812e-02, 1.14472459e-02, 7.00892776e-03, 4.73956147e-03,\n",
       "        2.69110693e-03, 1.56646523e-03, 1.14472459e-03, 5.82403740e-04,\n",
       "        3.41409089e-04, 1.80745988e-04, 2.00828876e-05, 6.02486627e-05,\n",
       "        2.00828876e-05, 2.00828876e-05]),\n",
       " array([-6.5594759 , -6.31050772, -6.06153954, -5.81257135, -5.56360317,\n",
       "        -5.31463499, -5.06566681, -4.81669863, -4.56773045, -4.31876226,\n",
       "        -4.06979408, -3.8208259 , -3.57185772, -3.32288954, -3.07392136,\n",
       "        -2.82495317, -2.57598499, -2.32701681, -2.07804863, -1.82908045,\n",
       "        -1.58011227, -1.33114408, -1.0821759 , -0.83320772, -0.58423954,\n",
       "        -0.33527136, -0.08630318,  0.162665  ,  0.41163319,  0.66060137,\n",
       "         0.90956955,  1.15853773,  1.40750591,  1.65647409,  1.90544228,\n",
       "         2.15441046,  2.40337864,  2.65234682,  2.901315  ,  3.15028318,\n",
       "         3.39925137,  3.64821955,  3.89718773,  4.14615591,  4.39512409,\n",
       "         4.64409227,  4.89306046,  5.14202864,  5.39099682,  5.639965  ,\n",
       "         5.88893318]),\n",
       " <BarContainer object of 50 artists>)"
      ]
     },
     "execution_count": 26,
     "metadata": {},
     "output_type": "execute_result"
    },
    {
     "data": {
      "image/png": "[encoded data removed]",
      "text/plain": [
       "<Figure size 2000x500 with 2 Axes>"
      ]
     },
     "metadata": {},
     "output_type": "display_data"
    }
   ],
   "source": [
    "x = torch.randn(1000, 10)\n",
    "x.shape\n",
    "w = torch.randn(10, 200) / 10 ** 0.5\n",
    "y = x @ w # Dot product\n",
    "# print(x.mean(), x.std())\n",
    "# print(y.mean(), y.std())\n",
    "\n",
    "plt.figure(figsize=(20, 5))\n",
    "plt.subplot(121)\n",
    "plt.hist(x.view(-1).tolist(), 50, density=True);\n",
    "plt.subplot(122)\n",
    "plt.hist(y.view(-1).tolist(), 50, density=True)"
   ]
  },
  {
   "cell_type": "code",
   "execution_count": null,
   "metadata": {},
   "outputs": [],
   "source": []
  },
  {
   "cell_type": "code",
   "execution_count": null,
   "metadata": {},
   "outputs": [],
   "source": [
    "# calibrate the batch norm at the end of training\n",
    "\n",
    "with torch.no_grad():\n",
    "  # pass the training set through\n",
    "  emb = C[Xtr]\n",
    "  embcat = emb.view(emb.shape[0], -1)\n",
    "  hpreact = embcat @ W1 # + b1\n",
    "  # measure the mean/std over the entire training set\n",
    "  bnmean = hpreact.mean(0, keepdim=True)\n",
    "  bnstd = hpreact.std(0, keepdim=True)"
   ]
  },
  {
   "cell_type": "code",
   "execution_count": null,
   "metadata": {},
   "outputs": [
    {
     "name": "stdout",
     "output_type": "stream",
     "text": [
      "train 2.0674145221710205\n",
      "val 2.1056840419769287\n"
     ]
    }
   ],
   "source": [
    "@torch.no_grad() # this decorator disables gradient tracking\n",
    "def split_loss(split):\n",
    "  x,y = {\n",
    "    'train': (Xtr, Ytr),\n",
    "    'val': (Xdev, Ydev),\n",
    "    'test': (Xte, Yte),\n",
    "  }[split]\n",
    "  emb = C[x] # (N, block_size, n_embd)\n",
    "  embcat = emb.view(emb.shape[0], -1) # concat into (N, block_size * n_embd)\n",
    "  hpreact = embcat @ W1 # + b1\n",
    "  #hpreact = bngain * (hpreact - hpreact.mean(0, keepdim=True)) / hpreact.std(0, keepdim=True) + bnbias\n",
    "  hpreact = bngain * (hpreact - bnmean_running) / bnstd_running + bnbias\n",
    "  h = torch.tanh(hpreact) # (N, n_hidden)\n",
    "  logits = h @ W2 + b2 # (N, vocab_size)\n",
    "  loss = F.cross_entropy(logits, y)\n",
    "  print(split, loss.item())\n",
    "\n",
    "split_loss('train')\n",
    "split_loss('val')"
   ]
  },
  {
   "cell_type": "code",
   "execution_count": null,
   "metadata": {},
   "outputs": [
    {
     "name": "stdout",
     "output_type": "stream",
     "text": [
      "fun\n"
     ]
    }
   ],
   "source": [
    "# Real fun starts here\n",
    "print(\"fun\")"
   ]
  },
  {
   "cell_type": "code",
   "execution_count": 1,
   "metadata": {},
   "outputs": [],
   "source": [
    "# Lot to learn in this notebook\n",
    "# Relu, Sigmoid Tanh, Softmax\n",
    "# Need to understand gaussian and standard deviation\n",
    "# What is the diff between gaussian distribution and uniform distribution and Normal distribution\n",
    "# Variance and Standard Deviation\n",
    "\n",
    "# Batch Normalization\n",
    "# Using batch Normalization to control the statistics of activation function in neural network\n",
    "# Non linearity helps neural network to approximate any arbitrary function/expression\n",
    "# Batch Nomalization, pytorch, Diagnostic tools to understand what is going on with network and training\n",
    "# Get the intitution is the main thing in Engineering, programming and research"
   ]
  },
  {
   "cell_type": "code",
   "execution_count": null,
   "metadata": {},
   "outputs": [],
   "source": [
    "# Practice"
   ]
  },
  {
   "cell_type": "code",
   "execution_count": null,
   "metadata": {},
   "outputs": [],
   "source": [
    "# Create class and layers and MLP \n",
    "# to train neural networks\n",
    "# with using batch normalization\n",
    "class Linear:"
   ]
  }
 ],
 "metadata": {
  "kernelspec": {
   "display_name": "Python 3",
   "language": "python",
   "name": "python3"
  },
  "language_info": {
   "codemirror_mode": {
    "name": "ipython",
    "version": 3
   },
   "file_extension": ".py",
   "mimetype": "text/x-python",
   "name": "python",
   "nbconvert_exporter": "python",
   "pygments_lexer": "ipython3",
   "version": "3.10.12"
  }
 },
 "nbformat": 4,
 "nbformat_minor": 2
}
